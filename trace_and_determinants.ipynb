{
 "cells": [
  {
   "cell_type": "markdown",
   "id": "c112e5b8",
   "metadata": {},
   "source": [
    "# Trace and Determinant\n",
    "\n",
    "If you are done with all the previous challenges, you can try these katas that can be found on Codewars:\n",
    "- [Calculate the trace of a square matrix](https://www.codewars.com/kata/matrix-trace/train/python)\n",
    "- [Write a function that accepts a square matrix (N x N 2D array) and returns the determinant of the matrix.](https://www.codewars.com/kata/matrix-determinant/train/python)"
   ]
  },
  {
   "cell_type": "code",
   "execution_count": 1,
   "id": "a9793477",
   "metadata": {},
   "outputs": [],
   "source": [
    "import numpy as np"
   ]
  },
  {
   "cell_type": "markdown",
   "id": "64277bd5",
   "metadata": {},
   "source": [
    "## Trace"
   ]
  },
  {
   "cell_type": "markdown",
   "id": "52eb997d",
   "metadata": {},
   "source": [
    "Calculate the trace of a square matrix. \n",
    "\n",
    "* A square matrix has `n` rows and `n` columns, where `n` is any integer > 0. \n",
    "* The entries of the matrix can contain any number of integers. \n",
    "\n",
    "The function should return the calculated trace of the matrix, or None if the array is empty or not square. \n",
    "\n",
    "The trace of an n-by-n square matrix A is defined to be the sum of the elements on the main diagonal (the diagonal from the upper left to the lower right) of A.\n",
    "\n",
    "You can read more about the trace of a matrix at these sources:\n",
    "* http://en.wikipedia.org/wiki/Trace_(linear_algebra)\n",
    "* http://mathworld.wolfram.com/MatrixTrace.html"
   ]
  },
  {
   "cell_type": "markdown",
   "id": "89452d84",
   "metadata": {},
   "source": [
    "### Warm-up"
   ]
  },
  {
   "cell_type": "markdown",
   "id": "d6d9d8d7",
   "metadata": {},
   "source": [
    "Let's create now a square matrix $ A = \\begin{bmatrix}\n",
    "    1 & 2 & 3\\\\\n",
    "    4 & 5 & 6\\\\\n",
    "    7 & 8 & 9\n",
    "\\end{bmatrix}$"
   ]
  },
  {
   "cell_type": "code",
   "execution_count": 2,
   "id": "5c9389a5",
   "metadata": {},
   "outputs": [
    {
     "name": "stdout",
     "output_type": "stream",
     "text": [
      "\n",
      "[[1 2 3]\n",
      " [4 5 6]\n",
      " [7 8 9]],\n",
      "\n",
      "A.shape = (3, 3)\n",
      "A.dtype = dtype('int64'),\n",
      "\n"
     ]
    }
   ],
   "source": [
    "A = np.array([\n",
    "                [1,2,3],\n",
    "                [4,5,6],\n",
    "                [7,8,9]\n",
    "            ])\n",
    "\n",
    "print(f\"\"\"\n",
    "{A},\n",
    "\n",
    "{A.shape = }\n",
    "{A.dtype = },\n",
    "\"\"\")"
   ]
  },
  {
   "cell_type": "markdown",
   "id": "b28e7ab7",
   "metadata": {},
   "source": [
    "Compute its trace, which is the sum of its diagonal elements."
   ]
  },
  {
   "cell_type": "code",
   "execution_count": 3,
   "id": "a2feff95",
   "metadata": {},
   "outputs": [
    {
     "name": "stdout",
     "output_type": "stream",
     "text": [
      "\n",
      "diagonal_elements_of_A = [1, 5, 9]\n",
      "trace_of_A = 15\n",
      "trace_of_A2 = 15\n",
      "\n"
     ]
    }
   ],
   "source": [
    "diagonal_elements_of_A = [A[k][k] for k in range(A.shape[0])]\n",
    "trace_of_A = np.sum(diagonal_elements_of_A)\n",
    "trace_of_A2 = np.sum(np.diag(A))\n",
    "\n",
    "\n",
    "print(f\"\"\"\n",
    "{diagonal_elements_of_A = }\n",
    "{trace_of_A = }\n",
    "{trace_of_A2 = }\n",
    "\"\"\")\n"
   ]
  },
  {
   "cell_type": "markdown",
   "id": "fda97864",
   "metadata": {},
   "source": [
    "### The `trace` function\n",
    "\n",
    "Compute now the trace function which returns the trace of a matrix, checking first that it's a square matrix"
   ]
  },
  {
   "cell_type": "code",
   "execution_count": 11,
   "id": "b2471488",
   "metadata": {},
   "outputs": [],
   "source": [
    "def trace(matrix: np.array) -> float:\n",
    "    # Empty matrix ?\n",
    "    if len(matrix) == 0:\n",
    "        return \"it is an empty matrix\"\n",
    "    \n",
    "    # Square matrix ?\n",
    "    if matrix.shape[0] != matrix.shape[1]:\n",
    "        return \"It is not a squared matrix\"\n",
    "\n",
    "    # Returning the sum of the elements on the diagonal in one line of code\n",
    "    return np.sum(np.diag(matrix))\n"
   ]
  },
  {
   "cell_type": "code",
   "execution_count": 12,
   "id": "b0e575f8",
   "metadata": {},
   "outputs": [
    {
     "data": {
      "text/plain": [
       "15"
      ]
     },
     "execution_count": 12,
     "metadata": {},
     "output_type": "execute_result"
    }
   ],
   "source": [
    "trace(A)"
   ]
  },
  {
   "cell_type": "markdown",
   "id": "7066da09",
   "metadata": {},
   "source": [
    "## Determinant "
   ]
  },
  {
   "cell_type": "markdown",
   "id": "6640d4fe",
   "metadata": {},
   "source": [
    "[Determinant](https://en.wikipedia.org/wiki/Determinant) are extremely important concepts in linear algebra. \n",
    "\n",
    "To start with, _a matrix is invertible if and only if its determinant is different from 0_  \n",
    "\n",
    "It's pretty useful to measure _how close to being non-invertible_ a matrix is (in a quantifiable way!)\n",
    "\n",
    "But that's not all of it: watch this <a href=\"https://www.youtube.com/watch?v=Ip3X9LOh2dk\">10-min Youtube video </a> to get an intuition about what is a determinant and why it's important\n",
    "\n",
    "Your goal is to **create a function that manually compute the determinant of any matrix** (squared or not). It's a hard question, so, good luck! \n",
    "\n",
    "----\n",
    "<u>**Hints:**</u>\n",
    "\n",
    "Here are some properties of a determinant that could help you build the function\n",
    "* The determinant of an empty matrix is 0\n",
    "* The determinant of a $ 1 \\times 1 $ matrix is equal to its single coefficient\n",
    "* The determinant of a $ 2 \\times 2 $ matrix $\\begin{bmatrix} a & b\\\\ c & d \\end{bmatrix}$ is equal to $ad - bc$\n",
    "* The determinant of a $ 3 \\times 3 $ matrix can be computed recursively based on the $ 2 \\times 2 $ `minor determinants`, alternating + and minus signs\n",
    "$$\\begin{aligned}{\\begin{vmatrix}a&b&c\\\\d&e&f\\\\g&h&i\\end{vmatrix}}&=a\\,{\\begin{vmatrix}e&f\\\\h&i\\end{vmatrix}}-b\\,{\\begin{vmatrix}d&f\\\\g&i\\end{vmatrix}}+c\\,{\\begin{vmatrix}d&e\\\\g&h\\end{vmatrix}}\\end{aligned}$$\n",
    "* etc...\n",
    "\n",
    "Your function should therefore be a **`recursive function`** (a function that calls itself!)"
   ]
  },
  {
   "cell_type": "code",
   "execution_count": 16,
   "id": "88d06e0d",
   "metadata": {},
   "outputs": [],
   "source": [
    "def determinant(matrix: np.array) -> float:   \n",
    "    # Empty Matrix  ?\n",
    "    if len(matrix) == 0:\n",
    "        return None\n",
    "    \n",
    "    # Square matrix ?\n",
    "    if matrix.shape[0] != matrix.shape[1]:\n",
    "        return None\n",
    "\n",
    "    # Easy cases\n",
    "    \n",
    "    if len(matrix) == 1:\n",
    "        return matrix[0][0]\n",
    "    \n",
    "    if len(matrix) == 2:\n",
    "        return matrix[0][0] * matrix[1][1] - matrix[0][1] * matrix[1][0]\n",
    "    \n",
    "    # General Case\n",
    "    \n",
    "    det = 0\n",
    "    \n",
    "    for k in range(len(matrix)):        \n",
    "        submatrix = np.delete(np.delete(matrix, k, axis=1), 0, axis=0)\n",
    "        det_minor = determinant(submatrix)\n",
    "\n",
    "        # adding the \"minor determinants\" to the global determinant\n",
    "        det += (1 if k % 2 == 0 else -1) * matrix[0][k] * det_minor\n",
    "    \n",
    "    return det"
   ]
  }
 ],
 "metadata": {
  "kernelspec": {
   "display_name": "Python 3 (ipykernel)",
   "language": "python",
   "name": "python3"
  },
  "language_info": {
   "codemirror_mode": {
    "name": "ipython",
    "version": 3
   },
   "file_extension": ".py",
   "mimetype": "text/x-python",
   "name": "python",
   "nbconvert_exporter": "python",
   "pygments_lexer": "ipython3",
   "version": "3.10.6"
  },
  "toc": {
   "base_numbering": 1,
   "nav_menu": {},
   "number_sections": true,
   "sideBar": true,
   "skip_h1_title": false,
   "title_cell": "Table of Contents",
   "title_sidebar": "Contents",
   "toc_cell": false,
   "toc_position": {},
   "toc_section_display": true,
   "toc_window_display": false
  }
 },
 "nbformat": 4,
 "nbformat_minor": 5
}
